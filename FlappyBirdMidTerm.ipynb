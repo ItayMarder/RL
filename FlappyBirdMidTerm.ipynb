{
  "nbformat": 4,
  "nbformat_minor": 0,
  "metadata": {
    "colab": {
      "provenance": [],
      "collapsed_sections": [
        "9PsfB8bB6EVL",
        "-4Z_jvJErVsQ"
      ],
      "toc_visible": true,
      "include_colab_link": true
    },
    "kernelspec": {
      "name": "python3",
      "display_name": "Python 3"
    },
    "language_info": {
      "name": "python"
    }
  },
  "cells": [
    {
      "cell_type": "markdown",
      "metadata": {
        "id": "view-in-github",
        "colab_type": "text"
      },
      "source": [
        "<a href=\"https://colab.research.google.com/github/ItayMarder/RL/blob/main/FlappyBirdMidTerm.ipynb\" target=\"_parent\"><img src=\"https://colab.research.google.com/assets/colab-badge.svg\" alt=\"Open In Colab\"/></a>"
      ]
    },
    {
      "cell_type": "markdown",
      "source": [
        "## Installs"
      ],
      "metadata": {
        "id": "LzEyrrIkyiik"
      }
    },
    {
      "cell_type": "markdown",
      "source": [
        "## Imports"
      ],
      "metadata": {
        "id": "s5hzkeZvyYk1"
      }
    },
    {
      "cell_type": "code",
      "source": [
        "!git clone https://github.com/ntasfi/PyGame-Learning-Environment\n",
        "!pip install gym_ple\n",
        "!pip install -e ./PyGame-Learning-Environment\n",
        "!pip install pyvirtualdisplay\n",
        "!sudo apt-get install -y xvfb ffmpeg freeglut3-dev"
      ],
      "metadata": {
        "id": "7vj5IGwnxwZ1",
        "colab": {
          "base_uri": "https://localhost:8080/"
        },
        "outputId": "7db89391-0b13-4a85-bde5-bf618f24d6c9"
      },
      "execution_count": 1,
      "outputs": [
        {
          "output_type": "stream",
          "name": "stdout",
          "text": [
            "Cloning into 'PyGame-Learning-Environment'...\n",
            "remote: Enumerating objects: 1118, done.\u001b[K\n",
            "remote: Total 1118 (delta 0), reused 0 (delta 0), pack-reused 1118 (from 1)\u001b[K\n",
            "Receiving objects: 100% (1118/1118), 8.06 MiB | 34.81 MiB/s, done.\n",
            "Resolving deltas: 100% (592/592), done.\n",
            "Collecting gym_ple\n",
            "  Downloading gym_ple-0.3.tar.gz (4.0 kB)\n",
            "  Preparing metadata (setup.py) ... \u001b[?25l\u001b[?25hdone\n",
            "Building wheels for collected packages: gym_ple\n",
            "  Building wheel for gym_ple (setup.py) ... \u001b[?25l\u001b[?25hdone\n",
            "  Created wheel for gym_ple: filename=gym_ple-0.3-py3-none-any.whl size=4458 sha256=d9549972fd5fd40e7689f1798606153f050bd09a40e445efcaf473aa298dd789\n",
            "  Stored in directory: /root/.cache/pip/wheels/71/96/17/a59c56c130c89ad5816ef952c93cad65803807f1a3891ba994\n",
            "Successfully built gym_ple\n",
            "Installing collected packages: gym_ple\n",
            "Successfully installed gym_ple-0.3\n",
            "Obtaining file:///content/PyGame-Learning-Environment\n",
            "  Preparing metadata (setup.py) ... \u001b[?25l\u001b[?25hdone\n",
            "Requirement already satisfied: numpy in /usr/local/lib/python3.10/dist-packages (from ple==0.0.1) (1.26.4)\n",
            "Requirement already satisfied: Pillow in /usr/local/lib/python3.10/dist-packages (from ple==0.0.1) (11.0.0)\n",
            "Installing collected packages: ple\n",
            "  Running setup.py develop for ple\n",
            "Successfully installed ple-0.0.1\n",
            "Collecting pyvirtualdisplay\n",
            "  Downloading PyVirtualDisplay-3.0-py3-none-any.whl.metadata (943 bytes)\n",
            "Downloading PyVirtualDisplay-3.0-py3-none-any.whl (15 kB)\n",
            "Installing collected packages: pyvirtualdisplay\n",
            "Successfully installed pyvirtualdisplay-3.0\n",
            "Reading package lists... Done\n",
            "Building dependency tree... Done\n",
            "Reading state information... Done\n",
            "ffmpeg is already the newest version (7:4.4.2-0ubuntu0.22.04.1).\n",
            "The following additional packages will be installed:\n",
            "  freeglut3 libegl-dev libfontenc1 libgl-dev libgl1-mesa-dev libgles-dev\n",
            "  libgles1 libglu1-mesa libglu1-mesa-dev libglvnd-core-dev libglvnd-dev\n",
            "  libglx-dev libice-dev libopengl-dev libsm-dev libxfont2 libxkbfile1\n",
            "  libxt-dev x11-xkb-utils xfonts-base xfonts-encodings xfonts-utils\n",
            "  xserver-common\n",
            "Suggested packages:\n",
            "  libice-doc libsm-doc libxt-doc\n",
            "The following NEW packages will be installed:\n",
            "  freeglut3 freeglut3-dev libegl-dev libfontenc1 libgl-dev libgl1-mesa-dev\n",
            "  libgles-dev libgles1 libglu1-mesa libglu1-mesa-dev libglvnd-core-dev\n",
            "  libglvnd-dev libglx-dev libice-dev libopengl-dev libsm-dev libxfont2\n",
            "  libxkbfile1 libxt-dev x11-xkb-utils xfonts-base xfonts-encodings\n",
            "  xfonts-utils xserver-common xvfb\n",
            "0 upgraded, 25 newly installed, 0 to remove and 49 not upgraded.\n",
            "Need to get 9,076 kB of archives.\n",
            "After this operation, 18.7 MB of additional disk space will be used.\n",
            "Get:1 http://archive.ubuntu.com/ubuntu jammy/universe amd64 freeglut3 amd64 2.8.1-6 [74.0 kB]\n",
            "Get:2 http://archive.ubuntu.com/ubuntu jammy/main amd64 libglx-dev amd64 1.4.0-1 [14.1 kB]\n",
            "Get:3 http://archive.ubuntu.com/ubuntu jammy/main amd64 libgl-dev amd64 1.4.0-1 [101 kB]\n",
            "Get:4 http://archive.ubuntu.com/ubuntu jammy/main amd64 libglvnd-core-dev amd64 1.4.0-1 [12.7 kB]\n",
            "Get:5 http://archive.ubuntu.com/ubuntu jammy/main amd64 libegl-dev amd64 1.4.0-1 [18.0 kB]\n",
            "Get:6 http://archive.ubuntu.com/ubuntu jammy/main amd64 libgles1 amd64 1.4.0-1 [11.5 kB]\n",
            "Get:7 http://archive.ubuntu.com/ubuntu jammy/main amd64 libgles-dev amd64 1.4.0-1 [49.4 kB]\n",
            "Get:8 http://archive.ubuntu.com/ubuntu jammy/main amd64 libopengl-dev amd64 1.4.0-1 [3,400 B]\n",
            "Get:9 http://archive.ubuntu.com/ubuntu jammy/main amd64 libglvnd-dev amd64 1.4.0-1 [3,162 B]\n",
            "Get:10 http://archive.ubuntu.com/ubuntu jammy-updates/main amd64 libgl1-mesa-dev amd64 23.2.1-1ubuntu3.1~22.04.3 [6,848 B]\n",
            "Get:11 http://archive.ubuntu.com/ubuntu jammy/main amd64 libglu1-mesa amd64 9.0.2-1 [145 kB]\n",
            "Get:12 http://archive.ubuntu.com/ubuntu jammy/main amd64 libglu1-mesa-dev amd64 9.0.2-1 [231 kB]\n",
            "Get:13 http://archive.ubuntu.com/ubuntu jammy/main amd64 libice-dev amd64 2:1.0.10-1build2 [51.4 kB]\n",
            "Get:14 http://archive.ubuntu.com/ubuntu jammy/main amd64 libsm-dev amd64 2:1.2.3-1build2 [18.1 kB]\n",
            "Get:15 http://archive.ubuntu.com/ubuntu jammy/main amd64 libxt-dev amd64 1:1.2.1-1 [396 kB]\n",
            "Get:16 http://archive.ubuntu.com/ubuntu jammy/universe amd64 freeglut3-dev amd64 2.8.1-6 [126 kB]\n",
            "Get:17 http://archive.ubuntu.com/ubuntu jammy/main amd64 libfontenc1 amd64 1:1.1.4-1build3 [14.7 kB]\n",
            "Get:18 http://archive.ubuntu.com/ubuntu jammy/main amd64 libxfont2 amd64 1:2.0.5-1build1 [94.5 kB]\n",
            "Get:19 http://archive.ubuntu.com/ubuntu jammy/main amd64 libxkbfile1 amd64 1:1.1.0-1build3 [71.8 kB]\n",
            "Get:20 http://archive.ubuntu.com/ubuntu jammy/main amd64 x11-xkb-utils amd64 7.7+5build4 [172 kB]\n",
            "Get:21 http://archive.ubuntu.com/ubuntu jammy/main amd64 xfonts-encodings all 1:1.0.5-0ubuntu2 [578 kB]\n",
            "Get:22 http://archive.ubuntu.com/ubuntu jammy/main amd64 xfonts-utils amd64 1:7.7+6build2 [94.6 kB]\n",
            "Get:23 http://archive.ubuntu.com/ubuntu jammy/main amd64 xfonts-base all 1:1.0.5 [5,896 kB]\n",
            "Get:24 http://archive.ubuntu.com/ubuntu jammy-updates/main amd64 xserver-common all 2:21.1.4-2ubuntu1.7~22.04.12 [28.7 kB]\n",
            "Get:25 http://archive.ubuntu.com/ubuntu jammy-updates/universe amd64 xvfb amd64 2:21.1.4-2ubuntu1.7~22.04.12 [864 kB]\n",
            "Fetched 9,076 kB in 0s (37.3 MB/s)\n",
            "debconf: unable to initialize frontend: Dialog\n",
            "debconf: (No usable dialog-like program is installed, so the dialog based frontend cannot be used. at /usr/share/perl5/Debconf/FrontEnd/Dialog.pm line 78, <> line 25.)\n",
            "debconf: falling back to frontend: Readline\n",
            "debconf: unable to initialize frontend: Readline\n",
            "debconf: (This frontend requires a controlling tty.)\n",
            "debconf: falling back to frontend: Teletype\n",
            "dpkg-preconfigure: unable to re-open stdin: \n",
            "Selecting previously unselected package freeglut3:amd64.\n",
            "(Reading database ... 123633 files and directories currently installed.)\n",
            "Preparing to unpack .../00-freeglut3_2.8.1-6_amd64.deb ...\n",
            "Unpacking freeglut3:amd64 (2.8.1-6) ...\n",
            "Selecting previously unselected package libglx-dev:amd64.\n",
            "Preparing to unpack .../01-libglx-dev_1.4.0-1_amd64.deb ...\n",
            "Unpacking libglx-dev:amd64 (1.4.0-1) ...\n",
            "Selecting previously unselected package libgl-dev:amd64.\n",
            "Preparing to unpack .../02-libgl-dev_1.4.0-1_amd64.deb ...\n",
            "Unpacking libgl-dev:amd64 (1.4.0-1) ...\n",
            "Selecting previously unselected package libglvnd-core-dev:amd64.\n",
            "Preparing to unpack .../03-libglvnd-core-dev_1.4.0-1_amd64.deb ...\n",
            "Unpacking libglvnd-core-dev:amd64 (1.4.0-1) ...\n",
            "Selecting previously unselected package libegl-dev:amd64.\n",
            "Preparing to unpack .../04-libegl-dev_1.4.0-1_amd64.deb ...\n",
            "Unpacking libegl-dev:amd64 (1.4.0-1) ...\n",
            "Selecting previously unselected package libgles1:amd64.\n",
            "Preparing to unpack .../05-libgles1_1.4.0-1_amd64.deb ...\n",
            "Unpacking libgles1:amd64 (1.4.0-1) ...\n",
            "Selecting previously unselected package libgles-dev:amd64.\n",
            "Preparing to unpack .../06-libgles-dev_1.4.0-1_amd64.deb ...\n",
            "Unpacking libgles-dev:amd64 (1.4.0-1) ...\n",
            "Selecting previously unselected package libopengl-dev:amd64.\n",
            "Preparing to unpack .../07-libopengl-dev_1.4.0-1_amd64.deb ...\n",
            "Unpacking libopengl-dev:amd64 (1.4.0-1) ...\n",
            "Selecting previously unselected package libglvnd-dev:amd64.\n",
            "Preparing to unpack .../08-libglvnd-dev_1.4.0-1_amd64.deb ...\n",
            "Unpacking libglvnd-dev:amd64 (1.4.0-1) ...\n",
            "Selecting previously unselected package libgl1-mesa-dev:amd64.\n",
            "Preparing to unpack .../09-libgl1-mesa-dev_23.2.1-1ubuntu3.1~22.04.3_amd64.deb ...\n",
            "Unpacking libgl1-mesa-dev:amd64 (23.2.1-1ubuntu3.1~22.04.3) ...\n",
            "Selecting previously unselected package libglu1-mesa:amd64.\n",
            "Preparing to unpack .../10-libglu1-mesa_9.0.2-1_amd64.deb ...\n",
            "Unpacking libglu1-mesa:amd64 (9.0.2-1) ...\n",
            "Selecting previously unselected package libglu1-mesa-dev:amd64.\n",
            "Preparing to unpack .../11-libglu1-mesa-dev_9.0.2-1_amd64.deb ...\n",
            "Unpacking libglu1-mesa-dev:amd64 (9.0.2-1) ...\n",
            "Selecting previously unselected package libice-dev:amd64.\n",
            "Preparing to unpack .../12-libice-dev_2%3a1.0.10-1build2_amd64.deb ...\n",
            "Unpacking libice-dev:amd64 (2:1.0.10-1build2) ...\n",
            "Selecting previously unselected package libsm-dev:amd64.\n",
            "Preparing to unpack .../13-libsm-dev_2%3a1.2.3-1build2_amd64.deb ...\n",
            "Unpacking libsm-dev:amd64 (2:1.2.3-1build2) ...\n",
            "Selecting previously unselected package libxt-dev:amd64.\n",
            "Preparing to unpack .../14-libxt-dev_1%3a1.2.1-1_amd64.deb ...\n",
            "Unpacking libxt-dev:amd64 (1:1.2.1-1) ...\n",
            "Selecting previously unselected package freeglut3-dev:amd64.\n",
            "Preparing to unpack .../15-freeglut3-dev_2.8.1-6_amd64.deb ...\n",
            "Unpacking freeglut3-dev:amd64 (2.8.1-6) ...\n",
            "Selecting previously unselected package libfontenc1:amd64.\n",
            "Preparing to unpack .../16-libfontenc1_1%3a1.1.4-1build3_amd64.deb ...\n",
            "Unpacking libfontenc1:amd64 (1:1.1.4-1build3) ...\n",
            "Selecting previously unselected package libxfont2:amd64.\n",
            "Preparing to unpack .../17-libxfont2_1%3a2.0.5-1build1_amd64.deb ...\n",
            "Unpacking libxfont2:amd64 (1:2.0.5-1build1) ...\n",
            "Selecting previously unselected package libxkbfile1:amd64.\n",
            "Preparing to unpack .../18-libxkbfile1_1%3a1.1.0-1build3_amd64.deb ...\n",
            "Unpacking libxkbfile1:amd64 (1:1.1.0-1build3) ...\n",
            "Selecting previously unselected package x11-xkb-utils.\n",
            "Preparing to unpack .../19-x11-xkb-utils_7.7+5build4_amd64.deb ...\n",
            "Unpacking x11-xkb-utils (7.7+5build4) ...\n",
            "Selecting previously unselected package xfonts-encodings.\n",
            "Preparing to unpack .../20-xfonts-encodings_1%3a1.0.5-0ubuntu2_all.deb ...\n",
            "Unpacking xfonts-encodings (1:1.0.5-0ubuntu2) ...\n",
            "Selecting previously unselected package xfonts-utils.\n",
            "Preparing to unpack .../21-xfonts-utils_1%3a7.7+6build2_amd64.deb ...\n",
            "Unpacking xfonts-utils (1:7.7+6build2) ...\n",
            "Selecting previously unselected package xfonts-base.\n",
            "Preparing to unpack .../22-xfonts-base_1%3a1.0.5_all.deb ...\n",
            "Unpacking xfonts-base (1:1.0.5) ...\n",
            "Selecting previously unselected package xserver-common.\n",
            "Preparing to unpack .../23-xserver-common_2%3a21.1.4-2ubuntu1.7~22.04.12_all.deb ...\n",
            "Unpacking xserver-common (2:21.1.4-2ubuntu1.7~22.04.12) ...\n",
            "Selecting previously unselected package xvfb.\n",
            "Preparing to unpack .../24-xvfb_2%3a21.1.4-2ubuntu1.7~22.04.12_amd64.deb ...\n",
            "Unpacking xvfb (2:21.1.4-2ubuntu1.7~22.04.12) ...\n",
            "Setting up freeglut3:amd64 (2.8.1-6) ...\n",
            "Setting up libglvnd-core-dev:amd64 (1.4.0-1) ...\n",
            "Setting up libice-dev:amd64 (2:1.0.10-1build2) ...\n",
            "Setting up libsm-dev:amd64 (2:1.2.3-1build2) ...\n",
            "Setting up libfontenc1:amd64 (1:1.1.4-1build3) ...\n",
            "Setting up libxt-dev:amd64 (1:1.2.1-1) ...\n",
            "Setting up libgles1:amd64 (1.4.0-1) ...\n",
            "Setting up xfonts-encodings (1:1.0.5-0ubuntu2) ...\n",
            "Setting up libglx-dev:amd64 (1.4.0-1) ...\n",
            "Setting up libglu1-mesa:amd64 (9.0.2-1) ...\n",
            "Setting up libxkbfile1:amd64 (1:1.1.0-1build3) ...\n",
            "Setting up libopengl-dev:amd64 (1.4.0-1) ...\n",
            "Setting up libxfont2:amd64 (1:2.0.5-1build1) ...\n",
            "Setting up libgl-dev:amd64 (1.4.0-1) ...\n",
            "Setting up libegl-dev:amd64 (1.4.0-1) ...\n",
            "Setting up x11-xkb-utils (7.7+5build4) ...\n",
            "Setting up xfonts-utils (1:7.7+6build2) ...\n",
            "Setting up xfonts-base (1:1.0.5) ...\n",
            "Setting up libglu1-mesa-dev:amd64 (9.0.2-1) ...\n",
            "Setting up xserver-common (2:21.1.4-2ubuntu1.7~22.04.12) ...\n",
            "Setting up libgles-dev:amd64 (1.4.0-1) ...\n",
            "Setting up xvfb (2:21.1.4-2ubuntu1.7~22.04.12) ...\n",
            "Setting up libglvnd-dev:amd64 (1.4.0-1) ...\n",
            "Setting up libgl1-mesa-dev:amd64 (23.2.1-1ubuntu3.1~22.04.3) ...\n",
            "Setting up freeglut3-dev:amd64 (2.8.1-6) ...\n",
            "Processing triggers for libc-bin (2.35-0ubuntu3.4) ...\n",
            "/sbin/ldconfig.real: /usr/local/lib/libtbbmalloc_proxy.so.2 is not a symbolic link\n",
            "\n",
            "/sbin/ldconfig.real: /usr/local/lib/libtbbbind_2_0.so.3 is not a symbolic link\n",
            "\n",
            "/sbin/ldconfig.real: /usr/local/lib/libtbbbind_2_5.so.3 is not a symbolic link\n",
            "\n",
            "/sbin/ldconfig.real: /usr/local/lib/libur_adapter_opencl.so.0 is not a symbolic link\n",
            "\n",
            "/sbin/ldconfig.real: /usr/local/lib/libtcm_debug.so.1 is not a symbolic link\n",
            "\n",
            "/sbin/ldconfig.real: /usr/local/lib/libtbb.so.12 is not a symbolic link\n",
            "\n",
            "/sbin/ldconfig.real: /usr/local/lib/libur_adapter_level_zero.so.0 is not a symbolic link\n",
            "\n",
            "/sbin/ldconfig.real: /usr/local/lib/libtbbbind.so.3 is not a symbolic link\n",
            "\n",
            "/sbin/ldconfig.real: /usr/local/lib/libtbbmalloc.so.2 is not a symbolic link\n",
            "\n",
            "/sbin/ldconfig.real: /usr/local/lib/libhwloc.so.15 is not a symbolic link\n",
            "\n",
            "/sbin/ldconfig.real: /usr/local/lib/libur_loader.so.0 is not a symbolic link\n",
            "\n",
            "/sbin/ldconfig.real: /usr/local/lib/libtcm.so.1 is not a symbolic link\n",
            "\n",
            "/sbin/ldconfig.real: /usr/local/lib/libumf.so.0 is not a symbolic link\n",
            "\n",
            "Processing triggers for man-db (2.10.2-1) ...\n",
            "Processing triggers for fontconfig (2.13.1-4.2ubuntu5) ...\n"
          ]
        }
      ]
    },
    {
      "cell_type": "code",
      "source": [
        "import sys\n",
        "sys.path.append('/content/PyGame-Learning-Environment')\n",
        "from ple.games.flappybird import FlappyBird\n",
        "from ple import PLE\n",
        "from gym import spaces\n",
        "import IPython\n",
        "import numpy as np\n",
        "import gym\n",
        "import os\n",
        "import pyvirtualdisplay\n",
        "import base64\n",
        "import warnings\n",
        "import imageio\n",
        "from abc import ABC, abstractmethod\n",
        "warnings.filterwarnings(\"ignore\")\n"
      ],
      "metadata": {
        "id": "gyVRgQEU4_M_",
        "colab": {
          "base_uri": "https://localhost:8080/"
        },
        "outputId": "c99038ec-e86c-4362-dc8b-fbd025021555"
      },
      "execution_count": 6,
      "outputs": [
        {
          "output_type": "stream",
          "name": "stdout",
          "text": [
            "pygame 2.6.1 (SDL 2.28.4, Python 3.10.12)\n",
            "Hello from the pygame community. https://www.pygame.org/contribute.html\n",
            "couldn't import doomish\n",
            "Couldn't import doom\n"
          ]
        }
      ]
    },
    {
      "cell_type": "markdown",
      "source": [
        "## Utility function to display episode"
      ],
      "metadata": {
        "id": "9PsfB8bB6EVL"
      }
    },
    {
      "cell_type": "code",
      "source": [
        "def embed_mp4(filename):\n",
        "  \"\"\"Embeds an mp4 file in the notebook.\"\"\"\n",
        "  video = open(filename,'rb').read()\n",
        "  b64 = base64.b64encode(video)\n",
        "  tag = '''\n",
        "  <video width=\"640\" height=\"480\" controls>\n",
        "    <source src=\"data:video/mp4;base64,{0}\" type=\"video/mp4\">\n",
        "  Your browser does not support the video tag.\n",
        "  </video>'''.format(b64.decode())\n",
        "\n",
        "  return IPython.display.HTML(tag)"
      ],
      "metadata": {
        "id": "h-jaUHEU6Dau"
      },
      "execution_count": 5,
      "outputs": []
    },
    {
      "cell_type": "markdown",
      "source": [
        "## Environment"
      ],
      "metadata": {
        "id": "9mx2jFonhEun"
      }
    },
    {
      "cell_type": "markdown",
      "source": [
        "### Environment Summary\n",
        "\n",
        "This environment simulates the *Flappy Bird* game, where the agent controls the bird’s vertical position to navigate through gaps in pipes. Built on OpenAI’s `gym.Env` class, the environment allows interaction through standard functions like `step`, `reset`, and `render`.\n",
        "\n",
        "**Key Components**\n",
        "\n",
        "- **Observation Space**: The observation space includes 8 integer values, each representing a different aspect of the game state. These include:\n",
        "  - `\"player_y\"`: The bird's vertical position.\n",
        "  - `\"player_vel\"`: The bird's vertical velocity.\n",
        "  - `\"next_pipe_dist_to_player\"`: Horizontal distance to the next pipe.\n",
        "  - Additional features: Positions of the top and bottom of the next two pipes, enabling the agent to anticipate upcoming gaps.\n",
        "\n",
        "- **Action Space**: This is a discrete space with two actions:\n",
        "  - `0`: No flap (bird falls due to gravity).\n",
        "  - `1`: Flap (bird moves upward).\n",
        "- **Using the Environment**\n",
        "\n",
        "  - **Step:**\n",
        "    The `step` function returns four parameters: `obs`, `reward`, `done`, and `info`.\n",
        "\n",
        "    - **`obs`**: The new observation after applying the action.\n",
        "    - **`reward`**: The reward received for the action.\n",
        "    - **`done`**: A boolean indicating whether the episode has ended.\n",
        "    - **`info`**: A dictionary containing additional information. In this environment, the `info` dictionary includes a `\"score\"` entry that indicates how many pipes the bird has passed since the beginning of the episode.\n",
        "  - **Reset**\n",
        "    The `reset` function restores the environment to its initial state and returns the observation of that state.\n",
        "\n",
        "  - **Render**\n",
        "    The `render` function returns an image of the current state as a NumPy array (`np.array`).\n",
        "\n",
        "  See the `Running the environment` section below for an example of how to use it.\n",
        "\n",
        "- **Customizable Parameters**:\n",
        "  - **`pipe_gap`**: This controls the vertical gap between pipes. The default is set to `80`, providing a moderate challenge.\n",
        "  - **`custom_obs`** and **`custome_observation_map`**: Setting `custom_obs=True` instructs the environment to use a custom `observation_map` specified by the user, rather than the default map. When using a custom observation map, the user must also provide a `preprocess` function compatible with the custom observation map to ensure the observations are correctly processed for the agent.\n",
        "\n",
        "  - **`preprocess`** and **`reward_shaping`**: Optional functions that allow the user to customize how observations and rewards are modified. The `preprocess` function transforms the raw observations according to the specified `observation_map`, while `reward_shaping` allows for custom adjustments to the reward structure, helping to align the environment with the agent’s learning goals.\n",
        "\n",
        "  See the `Custom observation and reward shaping example of usage` section below for an example of usage.\n",
        "\n",
        "\n",
        "\n",
        "\n"
      ],
      "metadata": {
        "id": "odWvOUz5r-Y3"
      }
    },
    {
      "cell_type": "code",
      "source": [
        "# to disable the python game window popup\n",
        "os.environ[\"SDL_VIDEODRIVER\"] = \"dummy\"\n",
        "\n",
        "OBSERVATION_MAP = {0: 'player_y',\n",
        "                   1: \"player_vel\",\n",
        "                   2: \"next_pipe_dist_to_player\",\n",
        "                   3: \"next_pipe_top_y\",\n",
        "                   4: \"next_pipe_bottom_y\",\n",
        "                   5: \"next_next_pipe_dist_to_player\",\n",
        "                   6: \"next_next_pipe_top_y\",\n",
        "                   7: \"next_next_pipe_bottom_y\",\n",
        "}\n",
        "\n",
        "class Game(gym.Env):\n",
        "    def __init__(self, display_screen=False,\n",
        "                 force_fps=True,\n",
        "                 custom_obs=False,\n",
        "                 pipe_gap=80,\n",
        "                 custome_observation_map={},\n",
        "                 preprocess=lambda x: x,\n",
        "                 reward_shaping=lambda x, y, z: x):\n",
        "\n",
        "        os.environ[\"SDL_VIDEODRIVER\"] = \"dummy\"\n",
        "        game = FlappyBird(pipe_gap=pipe_gap)  # define and initiate the environment\n",
        "        self.env = PLE(game, fps=30, display_screen=display_screen,\n",
        "                       force_fps=force_fps)\n",
        "        self.env.init()\n",
        "        # list of actions in the environment\n",
        "        self.actions = self.env.getActionSet()\n",
        "        # length of actions\n",
        "        self.action_space = spaces.Discrete(len(self.actions))\n",
        "        self.custom_obs = custom_obs\n",
        "        self._observation_map = custome_observation_map if custom_obs else OBSERVATION_MAP\n",
        "        self.preprocess = preprocess\n",
        "        self.reward_shaping = reward_shaping\n",
        "        self.score = 0\n",
        "\n",
        "    @property\n",
        "    def observation_space(self):\n",
        "        return spaces.Box(low=0, high=512, shape=(len(self._observation_map),), dtype=int)\n",
        "\n",
        "    def _get_rgb(self):\n",
        "        return self.env.getScreenRGB().transpose(1, 0, 2)\n",
        "\n",
        "    @property\n",
        "    def observation_map(self):\n",
        "        return self._observation_map\n",
        "\n",
        "    def step(self, action):\n",
        "        \"\"\"Take the action chosen and update the reward\"\"\"\n",
        "        reward = self.env.act(self.actions[action])\n",
        "        if reward < 0:\n",
        "          reward = -1\n",
        "\n",
        "        if reward > 0:\n",
        "          self.score += 1\n",
        "        state = self.env.getGameState()\n",
        "        terminal = self.env.game_over()\n",
        "        reward = self.reward_shaping(reward, terminal, env)\n",
        "        info = {'score':self.score}\n",
        "        return self.preprocess(np.array(list(state.values())).astype(int)), reward, terminal, info\n",
        "\n",
        "    def getGameState(self):\n",
        "        '''\n",
        "        PLEenv return gamestate as a dictionary. Returns a modified form\n",
        "        of the gamestate only with the required information to define the state\n",
        "        '''\n",
        "        state = self.env.getGameState()\n",
        "        h_dist = state['next_pipe_dist_to_player']\n",
        "        v_dist = state['next_pipe_bottom_y'] - state['player_y']\n",
        "        vel = state['player_vel']\n",
        "\n",
        "        return ' '.join([str(vel), str(h_dist), str(v_dist)])\n",
        "\n",
        "    def reset(self):\n",
        "        \"\"\"Resets the game to start a new game\"\"\"\n",
        "        self.env.reset_game()\n",
        "        state = self.env.getGameState()\n",
        "        self.score = 0\n",
        "        return self.preprocess(np.array(list(state.values())).astype(int))\n",
        "\n",
        "    def render(self, mode='human'):\n",
        "        \"\"\"Render the game\"\"\"\n",
        "        return self._get_rgb()\n",
        "\n",
        "    def seed(self, seed):\n",
        "        rng = np.random.RandomState(seed)\n",
        "        self.env.rng = rng\n",
        "        self.env.game.rng = self.env.rng\n",
        "\n",
        "        self.env.init()"
      ],
      "metadata": {
        "id": "hEXHvbNYyd8L"
      },
      "execution_count": 7,
      "outputs": []
    },
    {
      "cell_type": "code",
      "source": [
        "env = Game(custom_obs=False)"
      ],
      "metadata": {
        "id": "WRIzH8P-_fZz"
      },
      "execution_count": 9,
      "outputs": []
    },
    {
      "cell_type": "markdown",
      "source": [
        "### Observation space"
      ],
      "metadata": {
        "id": "64PvA8g5_PV1"
      }
    },
    {
      "cell_type": "code",
      "source": [
        "print(f\"observation space: {env.observation_space}\")\n",
        "for feaure, des in env.observation_map.items():\n",
        "  print(f\"feaure: {feaure} -> {des}\")"
      ],
      "metadata": {
        "colab": {
          "base_uri": "https://localhost:8080/"
        },
        "id": "bVz0zDuP_mI6",
        "outputId": "4fc5afda-7ac3-46af-f2c3-a7c91812e8a6"
      },
      "execution_count": 10,
      "outputs": [
        {
          "output_type": "stream",
          "name": "stdout",
          "text": [
            "observation space: Box(0, 512, (8,), int64)\n",
            "feaure: 0 -> player_y\n",
            "feaure: 1 -> player_vel\n",
            "feaure: 2 -> next_pipe_dist_to_player\n",
            "feaure: 3 -> next_pipe_top_y\n",
            "feaure: 4 -> next_pipe_bottom_y\n",
            "feaure: 5 -> next_next_pipe_dist_to_player\n",
            "feaure: 6 -> next_next_pipe_top_y\n",
            "feaure: 7 -> next_next_pipe_bottom_y\n"
          ]
        }
      ]
    },
    {
      "cell_type": "markdown",
      "source": [
        "In this *Flappy Bird* environment, the `Box` type represents a `Discrete` observation space in OpenAI's Gym, providing the agent with a range of values in each dimension of the environment. Here’s what each part means:\n",
        "\n",
        "* **Box**: This type of space is used to define a `Discrete`  range of values for each observation dimension. Here, it represents an 8-dimensional vector.\n",
        "* **(0, 512)**: Each dimension within this space can take values from 0 to 512, which corresponds to the pixel boundaries of the game.\n",
        "* **(8,)**: This shape indicates that there are 8 distinct variables in the observation vector, each capturing a critical feature of the environment.\n",
        "* **int64**: Each value in the vector is an integer of 64-bit precision.\n",
        "\n",
        "In summary, `Box(0, 512, (8,), int64)` represents an 8-dimensional vector space where each element is an integer from 0 to 512. Each dimension corresponds to a specific aspect of the *Flappy Bird* environment:\n",
        "\n",
        "1. **Player Y Position**: The vertical position of the bird, representing its height on the screen.\n",
        "2. **Player Velocity**: The bird’s current velocity, which impacts its movement and helps determine when to flap.\n",
        "3. **Distance to Next Pipe**: The horizontal distance between the bird and the next pipe, crucial for timing flaps.\n",
        "4. **Next Pipe Top Y Position**: The vertical position of the top of the next pipe, helping the bird gauge the gap.\n",
        "5. **Next Pipe Bottom Y Position**: The vertical position of the bottom of the next pipe, providing further data for navigating the gap.\n",
        "6. **Distance to Next-Next Pipe**: The horizontal distance to the pipe after the next one, giving the bird foresight into upcoming obstacles.\n",
        "7. **Next-Next Pipe Top Y Position**: The vertical position of the top of the pipe after the next one, extending the bird's view of upcoming gaps.\n",
        "8. **Next-Next Pipe Bottom Y Position**: The vertical position of the bottom of the pipe after the next one, for additional planning.\n",
        "\n",
        "Together, these dimensions offer the agent a detailed snapshot of the environment, helping it make decisions based on its position, velocity, and the layout of both current and upcoming obstacles.\n"
      ],
      "metadata": {
        "id": "bQsBJauryXVC"
      }
    },
    {
      "cell_type": "markdown",
      "source": [
        "### Action space"
      ],
      "metadata": {
        "id": "TLuIANMX0JRC"
      }
    },
    {
      "cell_type": "code",
      "source": [
        "env.action_space"
      ],
      "metadata": {
        "colab": {
          "base_uri": "https://localhost:8080/"
        },
        "id": "siDgIRASziZD",
        "outputId": "ade4dded-e488-460d-dd40-99f2724ea6a9"
      },
      "execution_count": 11,
      "outputs": [
        {
          "output_type": "execute_result",
          "data": {
            "text/plain": [
              "Discrete(2)"
            ]
          },
          "metadata": {},
          "execution_count": 11
        }
      ]
    },
    {
      "cell_type": "markdown",
      "source": [
        "In this *Flappy Bird* environment, the `Discrete(2)` action space defines the possible actions the agent can take, using a finite set of discrete values:\n",
        "\n",
        "* **Discrete**: This type of space is used when there are a limited number of distinct actions.\n",
        "* **2**: The number of actions available, represented by values 0 and 1.\n",
        "\n",
        "For *Flappy Bird*, these actions correspond to:\n",
        "  * **0**: Do nothing (the bird continues to fall due to gravity).\n",
        "  * **1**: Flap (the bird moves upward briefly).\n",
        "\n",
        "In summary, `Discrete(2)` defines an action space with two possible actions: allowing the bird to either continue falling or flap to move upward, which is essential for navigating the gaps between pipes.\n"
      ],
      "metadata": {
        "id": "tdPOZw630TUx"
      }
    },
    {
      "cell_type": "markdown",
      "source": [
        "### Rewards\n",
        "\n",
        "*Reward Structure:*\n",
        "\n",
        "\n",
        "\n",
        "*   **Positive Reward**: For each pipe successfully passed, the agent receives a reward of **+1**.\n",
        "*   **Negative Reward**: Upon reaching any terminal state, the agent receives a penalty of **-1**.\n",
        "*   **Zero Reward**: Any other senario the reward is **0**\n",
        "\n",
        "\n"
      ],
      "metadata": {
        "id": "oA95yg2--eXX"
      }
    },
    {
      "cell_type": "markdown",
      "source": [
        "### Running the environmen"
      ],
      "metadata": {
        "id": "sTbzOYOG33sE"
      }
    },
    {
      "cell_type": "code",
      "source": [
        "env = Game()\n",
        "env.seed(42)\n",
        "obs = env.reset()\n",
        "video_filename = '/content/vid.mp4'\n",
        "max_steps = 100\n",
        "# Evaluation\n",
        "with imageio.get_writer(video_filename, fps=24) as video:\n",
        "  obs = env.reset()\n",
        "  done = False\n",
        "  total_reward = 0\n",
        "  for step in range(max_steps):\n",
        "      action = env.action_space.sample()\n",
        "      obs, reward, done, info = env.step(action)\n",
        "      next_obs = obs  # Get agent's position directly from the environment\n",
        "      total_reward += reward\n",
        "      re = env.render()\n",
        "      video.append_data(re)\n",
        "      if done:\n",
        "        score = info['score']\n",
        "        print(\"Sum of rewards =\", total_reward, \", Number of steps=\", step, \"score: \", score)\n",
        "        break\n",
        "embed_mp4(video_filename)"
      ],
      "metadata": {
        "colab": {
          "base_uri": "https://localhost:8080/",
          "height": 519
        },
        "id": "OKOTC3dh38AP",
        "outputId": "38a4a767-feda-4c1f-8399-0c0dd249e02a"
      },
      "execution_count": 12,
      "outputs": [
        {
          "output_type": "stream",
          "name": "stdout",
          "text": [
            "Sum of rewards = -1.0 , Number of steps= 58 score:  0\n"
          ]
        },
        {
          "output_type": "execute_result",
          "data": {
            "text/plain": [
              "<IPython.core.display.HTML object>"
            ],
            "text/html": [
              "\n",
              "  <video width=\"640\" height=\"480\" controls>\n",
              "    <source src=\"data:video/mp4;base64,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\" type=\"video/mp4\">\n",
              "  Your browser does not support the video tag.\n",
              "  </video>"
            ]
          },
          "metadata": {},
          "execution_count": 12
        }
      ]
    },
    {
      "cell_type": "markdown",
      "source": [
        "### Custom observation and reward shaping example of usage"
      ],
      "metadata": {
        "id": "FA6SrS10_pGo"
      }
    },
    {
      "cell_type": "code",
      "source": [
        "custom_obs_mapping = {0: \"average\",\n",
        "                      1: 'sum'}\n",
        "\n",
        "# meaningless preprocess method that average and sums all of the original features\n",
        "preprocess = lambda x: np.array([np.mean(x), np.sum(x)])\n",
        "\n",
        "# meaningless reward shaping method that added 1 to each original reward\n",
        "reward_shaping = lambda x, y, z: x+1\n",
        "\n",
        "env = Game(custom_obs=True,\n",
        "           custome_observation_map=custom_obs_mapping,\n",
        "           preprocess=preprocess,\n",
        "           reward_shaping=reward_shaping)\n",
        "env.seed(42)\n",
        "obs = env.reset()\n",
        "\n",
        "print(f\"observation space: {env.observation_space}\")\n",
        "for feaure, des in env.observation_map.items():\n",
        "  print(f\"feaure: {feaure} -> {des}\")\n",
        "\n",
        "print(f\"reset: {obs}\")\n",
        "print(\"#\"*100, end=\"\\n\\n\")\n",
        "video_filename = '/content/vid.mp4'\n",
        "max_steps = 100\n",
        "# Evaluation\n",
        "with imageio.get_writer(video_filename, fps=24) as video:\n",
        "  obs = env.reset()\n",
        "  done = False\n",
        "  total_reward = 0\n",
        "  for step in range(max_steps):\n",
        "      action = env.action_space.sample()\n",
        "      obs, reward, done, info = env.step(action)\n",
        "      next_obs = obs  # Get agent's position directly from the environment\n",
        "      total_reward += reward\n",
        "      re = env.render()\n",
        "      video.append_data(re)\n",
        "      if done:\n",
        "        score = info['score']\n",
        "        print(\"Sum of rewards =\", total_reward, \", Number of steps=\", step, \"score: \", score)\n",
        "        break\n",
        "embed_mp4(video_filename)"
      ],
      "metadata": {
        "colab": {
          "base_uri": "https://localhost:8080/",
          "height": 623
        },
        "id": "3ejzOhgJAAcV",
        "outputId": "54003685-f436-4e9d-9307-4b2f1e9dd365"
      },
      "execution_count": 13,
      "outputs": [
        {
          "output_type": "stream",
          "name": "stdout",
          "text": [
            "observation space: Box(0, 512, (2,), int64)\n",
            "feaure: 0 -> average\n",
            "feaure: 1 -> sum\n",
            "reset: [ 197.5 1580. ]\n",
            "####################################################################################################\n",
            "\n",
            "Sum of rewards = 46.0 , Number of steps= 46 score:  0\n"
          ]
        },
        {
          "output_type": "execute_result",
          "data": {
            "text/plain": [
              "<IPython.core.display.HTML object>"
            ],
            "text/html": [
              "\n",
              "  <video width=\"640\" height=\"480\" controls>\n",
              "    <source src=\"data:video/mp4;base64,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\" type=\"video/mp4\">\n",
              "  Your browser does not support the video tag.\n",
              "  </video>"
            ]
          },
          "metadata": {},
          "execution_count": 13
        }
      ]
    },
    {
      "cell_type": "markdown",
      "source": [
        "# Your Work begins here"
      ],
      "metadata": {
        "id": "BSzUW-ufhISi"
      }
    },
    {
      "cell_type": "markdown",
      "source": [
        "## Preprocess"
      ],
      "metadata": {
        "id": "NV8nQ-G379Ek"
      }
    },
    {
      "cell_type": "markdown",
      "source": [
        "**Define the `preprocess` Method**\n",
        "\n",
        "- Create a function called `preprocess` that takes an observation as input.\n",
        "- The purpose of this function is to transform the raw observation into a format that optimizes learning for the agent. Use your creativity to design an effective preprocessing strategy for this task.\n",
        "\n",
        "**Suggested Approaches:**\n",
        "- **Normalization or Scaling**: Adjust observation values to a common range, such as $0$ to $1$ or $0$ to $N$, to improve stability in the learning process.\n",
        "- **Feature Extraction**: Emphasize key features in the observation that are crucial for achieving the environment's goals.\n",
        "- **Dimensionality Reduction**: Simplify the observation by removing or combining less significant parts to streamline learning and reduce complexity.\n",
        "\n",
        "**Compression and Q-Table Size**\n",
        "- Reducing the complexity of the observation, through techniques like scaling, normalization, or removing redundant features, effectively compresses the data. This compression simplifies the agent’s perception of the environment, helping it focus on the most relevant information.\n",
        "- In discrete environments, reducing observation dimensionality directly impacts the size of the Q-table. By compressing the observation space, you decrease the number of possible states, which makes the Q-table smaller and easier to manage. This reduction in Q-table size not only conserves memory but can also enhance learning efficiency.\n",
        "  \n",
        "Use these ideas to explain how your preprocessing strategy compresses the observation space and helps the agent handle the environment more effectively.\n",
        "\n",
        "**Rationalize Your Preprocessing Choices**\n",
        "\n",
        "- Include a brief explanation of your preprocessing choices. Explain why you believe this approach will improve the agent's learning efficiency and performance.\n",
        "- Discuss how these adjustments make the observations more interpretable or manageable for the learning algorithm.\n",
        "\n",
        "**Important**\n",
        "- The maximum value on the **Vertical** axis is **512**.\n",
        "- The maximum value on the **Horizontal** axis is **288**.\n"
      ],
      "metadata": {
        "id": "34GXgJztd6QZ"
      }
    },
    {
      "cell_type": "code",
      "source": [
        "custome_observation_map = {} # assing each action with a description of the feature meaning\n",
        "def preprocess(obs):\n",
        "  \"\"\"\n",
        "  insert your preprocessing code here\n",
        "  \"\"\"\n",
        "  return obs"
      ],
      "metadata": {
        "id": "LPHpNwt_8AAx"
      },
      "execution_count": null,
      "outputs": []
    },
    {
      "cell_type": "markdown",
      "source": [
        "## Reward shaping"
      ],
      "metadata": {
        "id": "562OuNkIeumH"
      }
    },
    {
      "cell_type": "markdown",
      "source": [
        "### Define a Reward Shaping Strategy\n",
        "\n",
        "**Reward shaping** means adjusting the rewards given to the agent to encourage desired actions and help it learn faster. In *Flappy Bird*, the goal is to create rewards that guide the bird to survive longer and avoid hitting pipes.\n",
        "\n",
        "**Steps for Reward Shaping:**\n",
        "\n",
        "1. **Identify Desired Behaviors**:\n",
        "   - Decide which behaviors you want to encourage. For example, flapping at the right time to pass through pipes or avoiding unnecessary flaps could be rewarded.\n",
        "\n",
        "2. **Design Rewards**:\n",
        "   - Use rewards that motivate the bird to take helpful actions without distracting from the main goal (staying alive). Here are some ideas:\n",
        "     - **Survival Reward**: Give a small reward for each step the bird survives.\n",
        "     - **Penalty for Hitting Pipes**: Apply a negative reward (penalty) when the bird crashes into a pipe.\n",
        "    - **Passing Through Pipes**: Provide a positive reward each time the bird successfully passes through a pipe.\n",
        "\n",
        "\n",
        "3. **Explain Your Reward Choices**:\n",
        "   - Add an explanation for your reward design. Why did you decide to reward certain actions or apply penalties?\n",
        "   - Describe how your rewards help the bird focus on staying alive and navigating pipes effectively.\n",
        "   - Provide an example demonstrating the impact of your reward shaping logic, ideally by comparing performance graphs with and without reward shaping.\n",
        "\n",
        "4. **Avoid Over-Shaping**:\n",
        "   - Avoid giving too many rewards for minor actions, as it could lead the bird to focus on short-term rewards instead of the main goal. Aim for a balance where the bird gets enough guidance without relying on intermediate rewards.\n",
        "\n",
        "**Q-Learning and Value Convergence**:\n",
        "   - Remember, shaping rewards impacts **Q-values** (the expected value of actions). When rewards are well-designed, the bird’s Q-values will better reflect valuable actions, helping it make smarter choices over time.\n",
        "\n",
        "Use these tips to develop a reward strategy that encourages the bird to navigate through pipes effectively while improving its learning.\n"
      ],
      "metadata": {
        "id": "zOnXqApDe7tg"
      }
    },
    {
      "cell_type": "code",
      "source": [
        "def reward_shaping(reward, terminal):\n",
        "  \"\"\"\n",
        "  insert your preprocessing code here\n",
        "  \"\"\"\n",
        "  return reward"
      ],
      "metadata": {
        "id": "bbGZVsX3f0m5"
      },
      "execution_count": null,
      "outputs": []
    },
    {
      "cell_type": "markdown",
      "source": [
        "## Implementation of Learning Agents"
      ],
      "metadata": {
        "id": "uRLgerJnhmXA"
      }
    },
    {
      "cell_type": "markdown",
      "source": [
        "Abstract Class for Implementing an On-Policy Agent\n",
        "\n",
        "Below is an abstract class to serve as a foundation for implementing an on-policy agent. Derive your agent from this class and implement the specific logic for your agent. Note that different agents may require additional parameters or functions to support their unique features and learning mechanisms.\n"
      ],
      "metadata": {
        "id": "Yev0iBqsjZVs"
      }
    },
    {
      "cell_type": "code",
      "source": [
        "from abc import ABC, abstractmethod\n",
        "\n",
        "class OnPolicyAgent(ABC):\n",
        "    def __init__(self, action_space, observation_space, gamma, learning_rate):\n",
        "        \"\"\"\n",
        "        Initializes the on-policy RL agent.\n",
        "        You can add more parameters\n",
        "        Parameters:\n",
        "        - action_space: The action space of the environment\n",
        "        - observation_space: The observation space of the environment\n",
        "        - gamma: Discount factor for future rewards\n",
        "        - learning_rate: Learning rate for policy updates\n",
        "        \"\"\"\n",
        "        self.action_space = action_space\n",
        "        self.observation_space = observation_space\n",
        "        self.gamma = gamma\n",
        "        self.learning_rate = learning_rate\n",
        "        self.policy = None  # Placeholder for policy (to be implemented in subclasses)\n",
        "\n",
        "    @abstractmethod\n",
        "    def select_action(self, observation, deterministic=False):\n",
        "        \"\"\"\n",
        "        Select an action based on the current policy.\n",
        "\n",
        "        Parameters:\n",
        "        - observation: Current state observation from the environment\n",
        "        -deterministic: Flag indicating whether to use a deterministic policy (default is False)\n",
        "        Returns:\n",
        "        - action: Chosen action based on the policy\n",
        "        \"\"\"\n",
        "        pass\n",
        "\n",
        "    @abstractmethod\n",
        "    def update_policy(self, transition):\n",
        "        \"\"\"\n",
        "        Update the policy based on the current transition.\n",
        "\n",
        "        Parameters:\n",
        "        - transition: Data collected from interactions with the environment (tuple of zero or more values such as acion, reward etc...)\n",
        "        \"\"\"\n",
        "        pass\n",
        "\n",
        "    @abstractmethod\n",
        "    def train(self, env, num_episodes, log_every):\n",
        "        \"\"\"\n",
        "        Train the agent over a specified number of episodes.\n",
        "\n",
        "        Parameters:\n",
        "        - env: The environment to train in\n",
        "        - num_episodes: Number of training episodes\n",
        "        \"\"\"\n",
        "        pass\n",
        "\n",
        "    @abstractmethod\n",
        "    def save_policy(self, file_path):\n",
        "        \"\"\"\n",
        "        Save the current policy to a file.\n",
        "\n",
        "        Parameters:\n",
        "        - file_path: Path to the file where the policy should be saved\n",
        "        \"\"\"\n",
        "        pass\n",
        "\n",
        "    @abstractmethod\n",
        "    def load_policy(self, file_path):\n",
        "        \"\"\"\n",
        "        Load a policy from a file.\n",
        "\n",
        "        Parameters:\n",
        "        - file_path: Path to the file from which the policy should be loaded\n",
        "        \"\"\"\n",
        "        pass\n",
        "\n",
        "    @abstractmethod\n",
        "    def run_policy(self, env):\n",
        "        \"\"\"\n",
        "        Run the loaded policy in the environment for one episode.\n",
        "\n",
        "        Parameters:\n",
        "        - env: The environment in which to run the policy\n",
        "\n",
        "        Returns:\n",
        "        - total_reward: Total reward accumulated in the episode\n",
        "        \"\"\"\n",
        "        pass\n"
      ],
      "metadata": {
        "id": "bq3JtejTh57r"
      },
      "execution_count": null,
      "outputs": []
    },
    {
      "cell_type": "markdown",
      "source": [
        "## Training"
      ],
      "metadata": {
        "id": "L4nG1NT6kLzQ"
      }
    },
    {
      "cell_type": "markdown",
      "source": [
        "#### Experimentation Instructions\n",
        "\n",
        "In this section, you will conduct a series of experiments to solve the environment using your on-policy agent. Follow these guidelines for a clear and comprehensive presentation of your work:\n",
        "\n",
        "1. **Design and Run Experiments**:\n",
        "   - Perform at least **5 distinct experiments** with your agent, including:\n",
        "     - **2 unsuccessful experiments** where the agent fails to learn the environment (reaching a score below the target).\n",
        "     - **1 successful experiment** where the agent achieves a score of **10** or higher. (Remember the score is define by the amount of pipes the agent has passed)\n",
        "\n",
        "   - *Note*: In practice, you are expected to try many configurations to observe various outcomes, even beyond these 3 experiments.\n",
        "\n",
        "2. **Provide Detailed Summaries**:\n",
        "   - For each experiment, include:\n",
        "     - **Graphs** that illustrate the training process, such as reward progression, steps, score, and  any other relevant metrics (there is many more metrics that we can learn from).\n",
        "     - **Explanations of Hyperparameters**: Clearly describe the configuration of hyperparameters chosen for each experiment, and the reasoning behind these choices.\n",
        "     - **Preprocessing and Reward Shaping**: Explain any data preprocessing or reward shaping techniques applied, along with the motivation for these techniques.\n",
        "\n",
        "3. **Analyze and Reflect**:\n",
        "   - **Result Analysis**: Analyze each experiment's outcome, focusing on why the agent may have succeeded or failed based on your configurations.\n",
        "   - **Insights and Deductions**: Draw insights from each experiment, noting what worked and what didn’t. Use these insights to refine your understanding of the environment and agent performance.\n",
        "\n",
        "4. **Final Report**:\n",
        "   - **Synthesize Findings**: Compile all observations, insights, and analysis from your experiments into a final report. This report should showcase your learnings and demonstrate a deep understanding of the experimentation process.\n",
        "   - **Emphasis on Analysis**: The analysis of your results and the conclusions drawn are the most critical aspects of this exercise. Dedicate ample attention to this section, as it will reflect your ability to interpret and understand the agent’s learning process.\n",
        "\n",
        "**Remember**: The goal of this exercise is to experiment, learn, and iterate. Document your process thoroughly, as this will form the foundation of your report.\n"
      ],
      "metadata": {
        "id": "c7SCgp8wkkQ5"
      }
    },
    {
      "cell_type": "code",
      "source": [
        "env = Game(custom_obs=True, preprocess=preprocess, reward_shaping=reward_shaping, custome_observation_map=custome_observation_map)\n",
        "\"\"\"\n",
        "Insert you experiment code here\n",
        "\"\"\""
      ],
      "metadata": {
        "id": "PHfYUscjkThj",
        "colab": {
          "base_uri": "https://localhost:8080/",
          "height": 36
        },
        "outputId": "903bc3ec-4efb-4167-c2cb-40ac544f8c27"
      },
      "execution_count": null,
      "outputs": [
        {
          "output_type": "execute_result",
          "data": {
            "text/plain": [
              "'\\nInsert you experiment code here\\n'"
            ],
            "application/vnd.google.colaboratory.intrinsic+json": {
              "type": "string"
            }
          },
          "metadata": {},
          "execution_count": 49
        }
      ]
    },
    {
      "cell_type": "markdown",
      "source": [
        "## Validation"
      ],
      "metadata": {
        "id": "Vk9cklTikbu_"
      }
    },
    {
      "cell_type": "markdown",
      "source": [
        "#### Validation Section\n",
        "\n",
        "In this section, you will validate your agent’s performance using the best-performing configuration identified in the experimentation phase. This validation step should be less exhaustive than the experimentation section but should provide sufficient evidence of your agent's consistency and stability.\n",
        "\n",
        "1. **Run Validation Trials**:\n",
        "   - Using the chosen configuration, run the agent in the environment for **multiple trials** (e.g., 5-10 episodes) to test its reliability.\n",
        "   - Observe the agent's performance across these trials to confirm whether it consistently achieves or exceeds the target score of 10.\n",
        "\n",
        "2. **Provide Key Summaries**:\n",
        "   - **Performance Metrics**: Summarize the agent’s performance with key metrics such as average score, highest score, and variance across trials.\n",
        "   - **Graphs** (Optional): Include basic graphs showing score progression or any other relevant metric, if they provide additional insight into the agent's stability.\n",
        "\n",
        "3. **Brief Analysis**:\n",
        "   - Reflect on the agent's performance in validation. Note any patterns or inconsistencies and provide a short explanation of how these results align (or differ) from your expectations based on the experimentation phase.\n",
        "\n",
        "*Note*: This validation section should confirm and strengthen the results of your experimentation, focusing on reliability and consistency rather than extensive analysis.\n",
        "\n",
        "*Note*: Store the agent's policy to files since you asked to provide aditional notbook that loads the agent policy\n"
      ],
      "metadata": {
        "id": "-4Z_jvJErVsQ"
      }
    },
    {
      "cell_type": "code",
      "source": [
        "\"\"\"\n",
        "Insert you validation code here\n",
        "\"\"\""
      ],
      "metadata": {
        "id": "65TXpKkgkeic",
        "colab": {
          "base_uri": "https://localhost:8080/"
        },
        "outputId": "31d46a28-f289-4531-e738-e0aad79e90eb"
      },
      "execution_count": null,
      "outputs": [
        {
          "output_type": "execute_result",
          "data": {
            "text/plain": [
              "'\\nInsert you validation code here\\n'"
            ],
            "application/vnd.google.colaboratory.intrinsic+json": {
              "type": "string"
            }
          },
          "metadata": {},
          "execution_count": 50
        }
      ]
    }
  ]
}